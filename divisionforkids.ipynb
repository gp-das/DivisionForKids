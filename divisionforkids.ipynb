{
 "cells": [
  {
   "cell_type": "markdown",
   "metadata": {},
   "source": [
    "# Division for kids"
   ]
  },
  {
   "cell_type": "code",
   "execution_count": 34,
   "metadata": {},
   "outputs": [],
   "source": [
    "def startdiv(dd, dr):\n",
    "    drl = len(dr)\n",
    "    ddl = len(dd)\n",
    "    qtf = ''\n",
    "    #print(\"drl\",drl)\n",
    "    #print(\"ddl\",ddl)\n",
    "    \n",
    "    ddi = len(dr)\n",
    "    \n",
    "    ddx = int(dd[0:drl])\n",
    "    drx = int(dr)\n",
    "    #print(\"Initial ddx = \",ddx, \"initial drx = \",drx)\n",
    "    \n",
    "    #print(\"   |\")\n",
    "    #print(dr,\" | \", dd)\n",
    "    \n",
    "    \n",
    "    while ddi <= ddl:\n",
    "        \n",
    "        \n",
    "        \n",
    "        if drx > ddx:\n",
    "            #print(\"Inside drx > ddx\")\n",
    "            #ddi += 1\n",
    "            #ddx = int(dd[0:ddi])\n",
    "            ddx = int(str(ddx) + dd[ddi])\n",
    "            print(\"New ddx in drx > ddx = \",ddx)\n",
    "            qti = ddx // drx\n",
    "            rri = ddx % drx\n",
    "            #print(\"Q in drx > ddx =\",qti)\n",
    "            #print(\"R in drx > ddx =\",rri)\n",
    "            ddi += 1\n",
    "        else:\n",
    "            #ddx = int(dd[0:ddi])\n",
    "            #print(\"Inside ELSE\")\n",
    "            qti = ddx // drx\n",
    "            rri = ddx % drx\n",
    "            #print(\"Q in drx else ddx =\",qti)\n",
    "            #print(\"R in drx else ddx =\",rri)\n",
    "            #ddi += 1\n",
    "            \n",
    "        qtf += str(qti)\n",
    "        #print(qti)\n",
    "        \n",
    "        if ddi == ddl:\n",
    "            break\n",
    "            \n",
    "        #ddi += 1\n",
    "        #print(\"final ddi = \",ddi)\n",
    "        #qtf += str(qti)\n",
    "        #print(dd[ddi])\n",
    "        print(\"   \",qtf)\n",
    "        print(\"------------\")\n",
    "        print(\"   |\")\n",
    "        print(dr, \" | \", dd)\n",
    "        print(\"     | - \", qti * dr)\n",
    "        print(\"     \", rri)\n",
    "        ddx = int(str(rri)+dd[ddi])\n",
    "        #print(\"Inside IF ddx = \",ddx)\n",
    "        if ddi == ddl-1 and ddx < drx:\n",
    "            qtf = qtf + '0'\n",
    "            break\n",
    "            \n",
    "        ddi += 1\n",
    "        #print(\"ddx\",ddx)\n",
    "    \n",
    "        \n",
    "        \n",
    "    print(\"Quotient = \",qtf, \"Remainder = \",rri)"
   ]
  },
  {
   "cell_type": "code",
   "execution_count": 35,
   "metadata": {},
   "outputs": [
    {
     "name": "stdout",
     "output_type": "stream",
     "text": [
      "Enter a Dividend: 123\n",
      "Enter a Divisor: 11\n",
      "    1\n",
      "------------\n",
      "   |\n",
      "11  |  123\n",
      "     | -  11\n",
      "      1\n",
      "Quotient =  11 Remainder =  2\n"
     ]
    }
   ],
   "source": [
    "dd = input(\"Enter a Dividend: \")\n",
    "dr = input(\"Enter a Divisor: \")\n",
    "if int(dr) == 0:\n",
    "    print(\"Division by Zero is not possible !!!\")\n",
    "elif int(dr) > int(dd):\n",
    "    print(\"Divisor is greater than Dividend !!!\")\n",
    "else:\n",
    "    startdiv(dd, dr)"
   ]
  },
  {
   "cell_type": "code",
   "execution_count": 25,
   "metadata": {},
   "outputs": [
    {
     "name": "stdout",
     "output_type": "stream",
     "text": [
      "19518\n"
     ]
    },
    {
     "data": {
      "text/plain": [
       "136"
      ]
     },
     "execution_count": 25,
     "metadata": {},
     "output_type": "execute_result"
    }
   ],
   "source": [
    "print(4567348//234)\n",
    "4567348%234"
   ]
  },
  {
   "cell_type": "code",
   "execution_count": null,
   "metadata": {},
   "outputs": [],
   "source": []
  }
 ],
 "metadata": {
  "kernelspec": {
   "display_name": "Python 3",
   "language": "python",
   "name": "python3"
  },
  "language_info": {
   "codemirror_mode": {
    "name": "ipython",
    "version": 3
   },
   "file_extension": ".py",
   "mimetype": "text/x-python",
   "name": "python",
   "nbconvert_exporter": "python",
   "pygments_lexer": "ipython3",
   "version": "3.7.6"
  }
 },
 "nbformat": 4,
 "nbformat_minor": 4
}
